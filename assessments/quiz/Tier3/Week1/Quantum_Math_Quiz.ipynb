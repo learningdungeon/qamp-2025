{
  "cells": [
    {
      "cell_type": "markdown",
      "metadata": {},
      "source": [
        "# Quantum Math Quiz: Normalization, Density Matrices, and Tensor Products \u269b\ufe0f\n",
        "\n",
        "This quiz tests your knowledge of the fundamental mathematical tools in quantum computing, including state normalization, probability calculation (Born Rule), density matrix analysis, and composite system (tensor product) mechanics.\n",
        "\n",
        "---"
      ]
    },
    {
      "cell_type": "markdown",
      "metadata": {},
      "source": [
        "## Question 1: Normalization\n",
        "\n",
        "Given the unnormalized state vector $|\\psi\\rangle = \\begin{pmatrix} 3 \\\\ 4i \\end{pmatrix}$, what is the numerical value of the norm squared, $\\langle\\psi|\\psi\\rangle$?\n",
        "\n",
        "A. 16\n",
        "B. 7\n",
        "C. 25\n",
        "D. 9 + 16i"
      ]
    },
    {
      "cell_type": "markdown",
      "metadata": {},
      "source": [
        "<details><summary>Click for Solution to Q1</summary>\n",
        "\n",
        "Correct Answer: C. 25\n",
        "\n",
        "Rationale: The norm squared is calculated as the sum of the squared magnitudes of the complex vector components: $|3|^2 + |4i|^2 = 9 + 16 = 25$.\n",
        "\n",
        "</details>"
      ]
    },
    {
      "cell_type": "markdown",
      "metadata": {},
      "source": [
        "## Question 2: Born Rule\n",
        "\n",
        "A normalized qubit state is $|\\psi\\rangle = \\frac{1}{\\sqrt{5}} |0\\rangle + \\frac{2i}{\\sqrt{5}} |1\\rangle$. According to the Born Rule, what is the probability of measuring the state $|1\\rangle$?\n",
        "\n",
        "A. $\\frac{1}{5}$\n",
        "B. $0.8$\n",
        "C. $0.5$\n",
        "D. $\\frac{2}{\\sqrt{5}}$"
      ]
    },
    {
      "cell_type": "markdown",
      "metadata": {},
      "source": [
        "<details><summary>Click for Solution to Q2</summary>\n",
        "\n",
        "Correct Answer: B. 0.8\n",
        "\n",
        "Rationale: The probability is the square of the magnitude of the coefficient of $|1\\rangle$: $|\\frac{2i}{\\sqrt{5}}|^2 = \\frac{|2i|^2}{|\\sqrt{5}|^2} = \\frac{4}{5} = 0.8$.\n",
        "\n",
        "</details>"
      ]
    },
    {
      "cell_type": "markdown",
      "metadata": {},
      "source": [
        "## Question 3: Orthogonality\n",
        "\n",
        "Which one of the following states is orthogonal to the state $|\\psi\\rangle = \\frac{1}{\\sqrt{2}} |0\\rangle + \\frac{1}{\\sqrt{2}} |1\\rangle$?\n",
        "\n",
        "A. $|\\phi\\rangle = \\frac{1}{\\sqrt{2}} |0\\rangle + \\frac{i}{\\sqrt{2}} |1\\rangle$\n",
        "B. $|\\phi\\rangle = \\frac{1}{\\sqrt{2}} |0\\rangle - \\frac{1}{\\sqrt{2}} |1\\rangle$\n",
        "C. $|\\phi\\rangle = |0\\rangle$\n",
        "D. $|\\phi\\rangle = \\frac{1}{\\sqrt{2}} |0\\rangle + \\frac{1}{\\sqrt{2}} |1\\rangle$"
      ]
    },
    {
      "cell_type": "markdown",
      "metadata": {},
      "source": [
        "<details><summary>Click for Solution to Q3</summary>\n",
        "\n",
        "Correct Answer: B. $|\\phi\\rangle = \\frac{1}{\\sqrt{2}} |0\\rangle - \\frac{1}{\\sqrt{2}} |1\\rangle$\n",
        "\n",
        "Rationale: Two states are orthogonal if their inner product is zero. \n",
        "$$\\n",
        "\\langle \\phi | \\psi \\rangle = (\\frac{1}{\\sqrt{2}})(\\frac{1}{\\sqrt{2}}) + (-\\frac{1}{\\sqrt{2}})(\\frac{1}{\\sqrt{2}}) = \\frac{1}{2} - \\frac{1}{2} = 0\\n",
        "$$\n",
        "</details>"
      ]
    },
    {
      "cell_type": "markdown",
      "metadata": {},
      "source": [
        "## Question 4: Density Matrix Construction\n",
        "\n",
        "If the state of a qubit is $|1\\rangle = \\begin{pmatrix} 0 \\\\ 1 \\end{pmatrix}$, what is its corresponding density matrix $\\rho = |1\\rangle\\langle 1|$?\n",
        "\n",
        "A. $\\begin{pmatrix} 1 & 0 \\\\ 0 & 1 \\end{pmatrix}$\n",
        "B. $\\begin{pmatrix} 1 & 1 \\\\ 1 & 1 \\end{pmatrix}$\n",
        "C. $\\begin{pmatrix} 0 & 0 \\\\ 0 & 1 \\end{pmatrix}$\n",
        "D. $\\begin{pmatrix} 0 & 1 \\\\ 1 & 0 \\end{pmatrix}$"
      ]
    },
    {
      "cell_type": "markdown",
      "metadata": {},
      "source": [
        "<details><summary>Click for Solution to Q4</summary>\n",
        "\n",
        "Correct Answer: C. $\\begin{pmatrix} 0 & 0 \\\\ 0 & 1 \\end{pmatrix}$\n",
        "\n",
        "Rationale: The density matrix is the outer product: \n",
        "$$\\n",
        "|1\\rangle\\langle 1| = \\begin{pmatrix} 0 \\\\ 1 \\end{pmatrix} \\begin{pmatrix} 0 & 1 \\end{pmatrix} = \\begin{pmatrix} 0 & 0 \\\\ 0 & 1 \\end{pmatrix}\\n",
        "$$\n",
        "</details>"
      ]
    },
    {
      "cell_type": "markdown",
      "metadata": {},
      "source": [
        "## Question 5: Diagonal Elements and Probability\n",
        "\n",
        "In a 2-qubit system, the density matrix $\\rho$ is a $4 \\times 4$ matrix. The element $\\rho_{33}$ corresponds to which physical quantity? (Note: Basis ordering is $|00\\rangle, |01\\rangle, |10\\rangle, |11\\rangle$)\n",
        "\n",
        "A. The strength of quantum coherence between $|00\\rangle$ and $|11\\rangle$\n",
        "B. The probability of measuring the state $|11\\rangle$\n",
        "C. The trace of the entire density matrix\n",
        "D. The normalization constant for the state"
      ]
    },
    {
      "cell_type": "markdown",
      "metadata": {},
      "source": [
        "<details><summary>Click for Solution to Q5</summary>\n",
        "\n",
        "Correct Answer: B. The probability of measuring the state |11\u27e9\n",
        "\n",
        "Rationale: The diagonal elements $\\rho_{kk}$ always represent the probability of measuring the $k$-th basis state. The basis states are indexed 0, 1, 2, 3, so $\\rho_{33}$ corresponds to the probability of measuring the state $|11\\rangle$ (index 3).\n",
        "\n",
        "</details>"
      ]
    }
  ],
  "metadata": {
    "kernelspec": {
      "display_name": "Python 3",
      "language": "python",
      "name": "python3"
    },
    "language_info": {
      "name": "python",
      "version": "3.11.5"
    }
  },
  "nbformat": 4,
  "nbformat_minor": 5
}