{
  "cells": [
    {
      "cell_type": "markdown",
      "metadata": {},
      "source": [
        "# Tier 3: Computational Assessment Quiz\n",
        "\n",
        "This quiz tests your understanding of vector formalism, gate matrices, and phase.\n",
        "---"
      ]
    },
    {
      "cell_type": "markdown",
      "metadata": {},
      "source": [
        "## Question 1: Gate Application (H on |1\u27e9)\n\n",
        "A qubit starts in the state |1\u27e9. A Hadamard (H) gate is applied. What is the final state vector?\n\n",
        "A. |+\u27e9 = 1/\u221a2 (|0\u27e9 + |1\u27e9)\nB. |\u2212\u27e9 = 1/\u221a2 (|0\u27e9 \u2212 |1\u27e9)\nC. |1\u27e9\nD. |0\u27e9",
        "\n\n",
        "<details><summary>Click for Solution</summary>\n\n",
        "**Correct Answer: B.** Applying H to |1\u27e9 gives (1/\u221a2)[1, -1]^T = |\u2212\u27e9.\n\n",
        "</details>"
      ]
    },
    {
      "cell_type": "markdown",
      "metadata": {},
      "source": [
        "## Question 2: Z Gate on |+\u27e9\n\n",
        "A qubit starts in the state |+\u27e9. A Pauli-Z gate is applied. What is the resulting state?\n\n",
        "A. |+\u27e9\nB. |\u2212\u27e9\nC. |0\u27e9\nD. |1\u27e9",
        "\n\n",
        "<details><summary>Click for Solution</summary>\n\n",
        "**Correct Answer: B.** Z|+\u27e9 = (1/\u221a2)(|0\u27e9 \u2212 |1\u27e9) = |\u2212\u27e9.\n\n",
        "</details>"
      ]
    },
    {
      "cell_type": "markdown",
      "metadata": {},
      "source": [
        "## Question 3: Global Phase\n\n",
        "Two states differ only by a global phase: |\u03c8\u27e9 and e^{i\u03b8}|\u03c8\u27e9. Are they physically distinguishable?\n\n",
        "A. Yes, phase changes measurement outcomes\nB. No, global phase is unobservable\nC. Yes, only for \u03b8 = \u03c0\nD. It depends on the measurement basis",
        "\n\n",
        "<details><summary>Click for Solution</summary>\n\n",
        "**Correct Answer: B.** Global phase has no physical effect; states differing only by global phase are identical physically.\n\n",
        "</details>"
      ]
    },
    {
      "cell_type": "markdown",
      "metadata": {},
      "source": [
        "## Question 4: Measurement Probabilities\n\n",
        "A qubit in state (1/\u221a3)|0\u27e9 + \u221a(2/3)|1\u27e9 is measured in the computational basis. What is P(1)?\n\n",
        "A. 1/3\nB. 2/3\nC. \u221a(2/3)\nD. 1/2",
        "\n\n",
        "<details><summary>Click for Solution</summary>\n\n",
        "**Correct Answer: B.** P(1) = |\u221a(2/3)|\u00b2 = 2/3.\n\n",
        "</details>"
      ]
    },
    {
      "cell_type": "markdown",
      "metadata": {},
      "source": [
        "## Question 5: Orthogonality\n\n",
        "Which pair of states are orthogonal?\n\n",
        "A. |0\u27e9 and |1\u27e9\nB. |+\u27e9 and |1\u27e9\nC. |+\u27e9 and |\u2212\u27e9\nD. All of the above",
        "\n\n",
        "<details><summary>Click for Solution</summary>\n\n",
        "**Correct Answer: C.** \u27e8+|\u2212\u27e9 = 0, so |+\u27e9 and |\u2212\u27e9 are orthogonal.\n\n",
        "</details>"
      ]
    },
    {
      "cell_type": "markdown",
      "metadata": {},
      "source": [
        "## Question 6: Y Gate Effect\n\n",
        "What happens when the Pauli-Y gate is applied to |0\u27e9?\n\n",
        "A. i|1\u27e9\nB. \u2212i|1\u27e9\nC. |1\u27e9\nD. \u2212|1\u27e9",
        "\n\n",
        "<details><summary>Click for Solution</summary>\n\n",
        "**Correct Answer: A.** Y|0\u27e9 = i|1\u27e9.\n\n",
        "</details>"
      ]
    },
    {
      "cell_type": "markdown",
      "metadata": {},
      "source": [
        "## Question 7: Matrix Multiplication\n\n",
        "Compute HXH, where H is Hadamard and X is Pauli-X. What gate does it equal?\n\n",
        "A. Z\nB. X\nC. Y\nD. H",
        "\n\n",
        "<details><summary>Click for Solution</summary>\n\n",
        "**Correct Answer: A.** HXH = Z.\n\n",
        "</details>"
      ]
    },
    {
      "cell_type": "markdown",
      "metadata": {},
      "source": [
        "## Question 8: Superposition Measurement\n\n",
        "If you measure |+\u27e9 in the computational basis, what are the probabilities for |0\u27e9 and |1\u27e9?\n\n",
        "A. 50% / 50%\nB. 100% / 0%\nC. 0% / 100%\nD. Depends on phase",
        "\n\n",
        "<details><summary>Click for Solution</summary>\n\n",
        "**Correct Answer: A.** |+\u27e9 = (1/\u221a2)(|0\u27e9 + |1\u27e9) \u2192 equal probabilities of \u00bd each.\n\n",
        "</details>"
      ]
    },
    {
      "cell_type": "markdown",
      "metadata": {},
      "source": [
        "## Question 9: Phase Gate (S on |+\u27e9)\n\n",
        "The S gate (phase gate) is applied to |+\u27e9. What is the resulting state?\n\n",
        "A. 1/\u221a2 (|0\u27e9 + i|1\u27e9)\nB. 1/\u221a2 (|0\u27e9 \u2212 i|1\u27e9)\nC. 1/\u221a2 (|0\u27e9 + |1\u27e9)\nD. |1\u27e9",
        "\n\n",
        "<details><summary>Click for Solution</summary>\n\n",
        "**Correct Answer: A.** S|+\u27e9 = (1/\u221a2)(|0\u27e9 + i|1\u27e9).\n\n",
        "</details>"
      ]
    },
    {
      "cell_type": "markdown",
      "metadata": {},
      "source": [
        "## Question 10: Two-Gate Sequence\n\n",
        "A qubit starts in |0\u27e9, a Hadamard is applied, followed by a Z gate. What is the final state?\n\n",
        "A. |+\u27e9\nB. |\u2212\u27e9\nC. |0\u27e9\nD. |1\u27e9",
        "\n\n",
        "<details><summary>Click for Solution</summary>\n\n",
        "**Correct Answer: B.** HZ|0\u27e9 = H|0\u27e9 = |+\u27e9, but Z after H flips phase: |\u2212\u27e9.\n\n",
        "</details>"
      ]
    }
  ],
  "metadata": {
    "kernelspec": {
      "display_name": "Python 3 (ipykernel)",
      "language": "python",
      "name": "python3"
    },
    "language_info": {
      "name": "python",
      "version": "3.10.12"
    }
  },
  "nbformat": 4,
  "nbformat_minor": 5
}