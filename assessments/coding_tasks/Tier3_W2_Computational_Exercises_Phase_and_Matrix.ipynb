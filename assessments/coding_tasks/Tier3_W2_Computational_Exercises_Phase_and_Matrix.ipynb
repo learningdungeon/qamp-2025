{
  "cells": [
    {
      "cell_type": "markdown",
      "metadata": {},
      "source": [
        "# Tier 3: Computational Exercises - Phase and Matrix Application\n",
        "\n",
        "**Objective:** Apply the linear algebra of single-qubit gates using Qiskit's `Statevector` and `Operator` classes to verify the effects of Global and Relative Phase.\n",
        "\n",
        "---\n",
        "\n",
        "## Exercise 1: Final State Vector Calculation ($R_Y$ Gate)\n",
        "\n",
        "**Task:** Calculate the final state vector after applying an **$R_Y(\\pi/2)$** gate to the initial state $|0\\rangle$. \n",
        "\n",
        "1.  Define the **$R_Y(\\pi/2)$ matrix** as a Qiskit `Operator`.\n",
        "2.  Use the `.evolve()` method on the initial state $|0\\rangle$ to find the `final_state`.\n",
        "3.  Print the resulting state vector and its measurement probabilities.\n",
        "\n",
        "*Hint: The $R_Y(\\theta)$ matrix is* $\\begin{pmatrix} \\cos(\\theta/2) & -\\sin(\\theta/2) \\\\ \\sin(\\theta/2) & \\cos(\\theta/2) \\end{pmatrix}$. *For $\\theta = \\pi/2$, $\\theta/2 = \\pi/4$ (or $1/\\sqrt{2}$).*"
      ]
    },
    {
      "cell_type": "code",
      "execution_count": 1,
      "metadata": {},
      "outputs": [
        {
          "name": "stdout",
          "output_type": "stream",
          "text": [
            "--- Exercise 1 Results ---\n",
            "Final State Vector: [0.70710678+0.j,0.70710678+0.j]\n",
            "Probabilities P(0)/P(1): {'0': 0.5000000000000001, '1': 0.5000000000000001}\n"
          ]
        }
      ],
      "source": [
        "import numpy as np\n",
        "from qiskit.quantum_info import Statevector, Operator\n",
        "\n",
        "# Initial State\n",
        "initial_state = Statevector.from_label('0')\n",
        "theta = np.pi / 2\n",
        "\n",
        "# 1. Define the RY(pi/2) Matrix\n",
        "ry_matrix = np.array([\n",
        "    [np.cos(theta/2), -np.sin(theta/2)],\n",
        "    [np.sin(theta/2), np.cos(theta/2)]\n",
        "])\n",
        "ry_op = Operator(ry_matrix)\n",
        "\n",
        "# 2. Calculate Final State\n",
        "final_state_ry = initial_state.evolve(ry_op)\n",
        "\n",
        "print(\"--- Exercise 1 Results ---\")\n",
        "print(f\"Final State Vector: {final_state_ry.draw('text')}\")\n",
        "print(f\"Probabilities P(0)/P(1): {final_state_ry.probabilities_dict()}\")"
      ]
    },
    {
      "cell_type": "markdown",
      "metadata": {},
      "source": [
        "## Exercise 2: Demonstrating Relative Phase Shift (S Gate)\n",
        "\n",
        "**Objective:** Verify that the $S$ gate ($R_Z(\\pi/2)$) introduces a **relative phase** without changing Z-basis measurement probabilities.\n",
        "\n",
        "1.  Start with the $|+\\rangle$ state (`plus_state`).\n",
        "2.  Apply the **$S$ gate** to the `plus_state` to get `state_after_s`.\n",
        "3.  Print the probability dictionaries for both states and observe the lack of change.\n",
        "\n",
        "*Hint: The S gate matrix is* $\\begin{pmatrix} 1 & 0 \\\\ 0 & i \\end{pmatrix}$ *in the standard basis.*"
      ]
    },
    {
      "cell_type": "code",
      "execution_count": null,
      "metadata": {},
      "outputs": [],
      "source": [
        "# State preparation (|0> -> |+>)\n",
        "h_op = Operator([[1/np.sqrt(2), 1/np.sqrt(2)], [1/np.sqrt(2), -1/np.sqrt(2)]])\n",
        "plus_state = Statevector.from_label('0').evolve(h_op)\n",
        "\n",
        "# 1. Define the S Gate Operator\n",
        "s_matrix = np.array([\n",
        "    [1, 0],\n",
        "    [0, 1j]\n",
        "])\n",
        "s_op = Operator(s_matrix)\n",
        "\n",
        "# 2. Apply S gate\n",
        "state_after_s = plus_state.evolve(s_op)\n",
        "\n",
        "print(\"--- Exercise 2 Results ---\")\n",
        "print(f\"State BEFORE S: |+>\\t{plus_state.probabilities_dict()}\")\n",
        "print(f\"State AFTER S: \\t{state_after_s.probabilities_dict()}\")\n",
        "print(f\"Phase check (Imaginary component of |1> amplitude): {state_after_s.data[1]}\")"
      ]
    },
    {
      "cell_type": "markdown",
      "metadata": {},
      "source": [
        "## Exercise 3: Physical Equivalence Test (Global vs. Relative Phase)\n",
        "\n",
        "**Objective:** Use the `.equiv()` method to formally prove the difference between Global and Relative Phase.\n",
        "\n",
        "**Tasks:**\n",
        "1.  Test **Global Phase:** Compare $|1\\rangle$ and $-|1\\rangle$. (`equiv_global`).\n",
        "2.  Test **Relative Phase:** Compare $|+\\rangle$ and $|-\\rangle$. (`equiv_relative`)."
      ]
    },
    {
      "cell_type": "code",
      "execution_count": null,
      "metadata": {},
      "outputs": [],
      "source": [
        "# 1. Define states differing by GLOBAL Phase\n",
        "state_A = Statevector.from_label('1')\n",
        "state_B = Statevector([0, -1]) # -|1> is a global phase of pi\n",
        "\n",
        "# 2. Define states differing by RELATIVE Phase\n",
        "state_C = Statevector.from_label('+')\n",
        "state_D = Statevector.from_label('-')\n",
        "\n",
        "equiv_global = state_A.equiv(state_B)\n",
        "equiv_relative = state_C.equiv(state_D)\n",
        "\n",
        "print(\"--- Exercise 3 Results ---\")\n",
        "print(f\"Global Phase Test (|1> vs -|1>): Is physically equivalent? {equiv_global}\")\n",
        "print(f\"Relative Phase Test (|+> vs |->): Is physically equivalent? {equiv_relative}\")"
      ]
    },
    {
      "cell_type": "markdown",
      "metadata": {},
      "source": [
        "## Exercise 4: Sequence Mastery ($H \\cdot Z \\cdot H$)\n",
        "\n",
        "**Objective:** Verify the matrix identity $H Z H = X$. (This sequence is how the $X$ gate is performed in the X-basis).\n",
        "\n",
        "**Task:** \n",
        "1. Start with the $|+\\rangle$ state.\n",
        "2. Apply the $Z$ gate (using its matrix) to get `state_after_z`.\n",
        "3. Apply the final $H$ gate to get `final_state_hzh`.\n",
        "4. Compare the result to the initial state (It should be $|0\\rangle$ $\\equiv$ $|1\\rangle$ due to the matrix identity).\n",
        "\n",
        "*Hint: The $HZH$ sequence should flip the state from $|+\\rangle$ to $|-\\rangle$ (the full sequence from $|0\\rangle$ to $|1\\rangle$). We will check the equivalence to the simple $X$ operation.*"
      ]
    },
    {
      "cell_type": "code",
      "execution_count": null,
      "metadata": {},
      "outputs": [],
      "source": [
        "# Define the gates\n",
        "h_op = Operator([[1/np.sqrt(2), 1/np.sqrt(2)], [1/np.sqrt(2), -1/np.sqrt(2)]])\n",
        "z_op = Operator([[1, 0], [0, -1]])\n",
        "x_op = Operator([[0, 1], [1, 0]])\n",
        "\n",
        "# Initial State (We start with |+> for a clear demonstration of the flip)\n",
        "state_plus = Statevector.from_label('+')\n",
        "\n",
        "# 1. Apply Z\n",
        "state_after_z = state_plus.evolve(z_op)\n",
        "\n",
        "# 2. Apply H\n",
        "final_state_hzh = state_after_z.evolve(h_op)\n",
        "\n",
        "# The final result should be the state X|+> = |->\n",
        "state_minus = Statevector.from_label('-')\n",
        "\n",
        "print(\"--- Exercise 4 Results ---\")\n",
        "print(f\"Initial State: |+>\\n{state_plus.draw('text')}\")\n",
        "print(f\"Final State (HZH Sequence):\\n{final_state_hzh.draw('text')}\")\n",
        "print(f\"Is Final State equivalent to |->? {final_state_hzh.equiv(state_minus)}\")"
      ]
    },
    {
      "cell_type": "markdown",
      "metadata": {},
      "source": [
        "## Exercise 5: $R_Z(\\pi)$ vs $Z$ Equivalence\n",
        "\n",
        "**Objective:** Verify the theoretical equivalence stated in your notes: $R_Z(\\pi) \\equiv Z$ (up to a global phase).\n",
        "\n",
        "**Task:**\n",
        "1.  Define the $R_Z(\\pi)$ matrix using the continuous formula.\n",
        "2.  Define the standard $Z$ matrix (`z_op`).\n",
        "3.  Use the `.equiv()` method to confirm that the two operators are physically equivalent.\n",
        "\n",
        "*Hint: You are comparing two `Operator` objects, not two `Statevector` objects. You must use `op_A.equiv(op_B)`.*"
      ]
    },
    {
      "cell_type": "code",
      "execution_count": 2,
      "metadata": {},
      "outputs": [
        {
          "name": "stdout",
          "output_type": "stream",
          "text": [
            "--- Exercise 5 Results ---\n",
            "Are RZ(pi) and Z Equivalent (up to global phase)? True\n"
          ]
        }
      ],
      "source": [
        "theta = np.pi\n",
        "\n",
        "# 1. Define RZ(pi) Operator\n",
        "rz_pi_matrix = np.array([\n",
        "    [np.exp(-1j * theta / 2), 0],\n",
        "    [0, np.exp(1j * theta / 2)]\n",
        "])\n",
        "rz_pi_op = Operator(rz_pi_matrix)\n",
        "\n",
        "# 2. Define Z Operator\n",
        "z_op = Operator([[1, 0], [0, -1]])\n",
        "\n",
        "# 3. Test Equivalence\n",
        "operators_are_equivalent = rz_pi_op.equiv(z_op)\n",
        "\n",
        "print(\"--- Exercise 5 Results ---\")\n",
        "print(f\"Are RZ(pi) and Z Equivalent (up to global phase)? {operators_are_equivalent}\")"
      ]
    }
  ],
  "metadata": {
    "kernelspec": {
      "display_name": "Python 3",
      "language": "python",
      "name": "python3"
    },
    "language_info": {
      "codemirror_mode": {
        "name": "ipython",
        "version": 3
      },
      "file_extension": ".py",
      "mimetype": "text/x-python",
      "name": "python",
      "nbconvert_exporter": "python",
      "pygments_lexer": "ipython3",
      "version": "3.11.9"
    }
  },
  "nbformat": 4,
  "nbformat_minor": 5
}
