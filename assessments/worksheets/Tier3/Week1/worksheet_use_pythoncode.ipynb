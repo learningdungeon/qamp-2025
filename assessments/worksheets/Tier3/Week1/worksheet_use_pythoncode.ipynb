{
 "cells": [
  {
   "cell_type": "markdown",
   "id": "dc6bddd7",
   "metadata": {},
   "source": [
    "# Quantum Mechanics Math Practice Worksheet 📐\n",
    "\n",
    "This worksheet contains 6 computational problems focusing on core quantum formalism, including normalization, the Born rule, inner products, density matrices, and tensor products.\n",
    "\n",
    "Use the code cells provided to perform the calculations. You may need to import `numpy`.\n",
    "\n",
    "---"
   ]
  },
  {
   "cell_type": "code",
   "execution_count": 1,
   "id": "1dfa6d11",
   "metadata": {},
   "outputs": [],
   "source": [
    "import numpy as np"
   ]
  },
  {
   "cell_type": "markdown",
   "id": "31c92d5f",
   "metadata": {},
   "source": [
    "## Problem 1: Normalization Challenge (1 Qubit)\n",
    "\n",
    "Given the unnormalized qubit state vector:\n",
    "$$|\\psi\\rangle = \\begin{pmatrix} 2 \\\\ 1 - i \\end{pmatrix}$$\n",
    "\n",
    "**Task:**\n",
    "1. Calculate the **norm squared**, $\\langle\\psi|\\psi\\rangle$.\n",
    "2. Determine the **normalization constant,** $N$ (where $N = 1/\\sqrt{\\langle\\psi|\\psi\\rangle}$). \n",
    "3. Write out the final **normalized state vector**, $|\\psi_{norm}\\rangle$."
   ]
  },
  {
   "cell_type": "code",
   "execution_count": 2,
   "id": "7416ab42",
   "metadata": {},
   "outputs": [
    {
     "name": "stdout",
     "output_type": "stream",
     "text": [
      "1. Norm Squared: (6+0j)\n",
      "2. Normalization Constant N: 0.4082+0.0000j\n",
      "3. Normalized State Vector:\n",
      " [[0.8165+0.j    ]\n",
      " [0.4082-0.4082j]]\n"
     ]
    }
   ],
   "source": [
    "# Problem 1 Solution Code\n",
    "ket_psi = np.array([[2], [1 - 1j]])\n",
    "\n",
    "# 1. Calculate norm squared (inner product <psi|psi>)\n",
    "norm_squared = np.vdot(ket_psi, ket_psi)\n",
    "print(f\"1. Norm Squared: {norm_squared}\")\n",
    "\n",
    "# 2. Calculate normalization constant N\n",
    "N = 1 / np.sqrt(norm_squared)\n",
    "print(f\"2. Normalization Constant N: {N:.4f}\")\n",
    "\n",
    "# 3. Calculate normalized state vector\n",
    "ket_psi_norm = N * ket_psi\n",
    "print(\"3. Normalized State Vector:\\n\", np.round(ket_psi_norm, 4))"
   ]
  },
  {
   "cell_type": "markdown",
   "id": "7716178a",
   "metadata": {},
   "source": [
    "## Problem 2: Born Rule Application\n",
    "\n",
    "The following is a normalized qubit state:\n",
    "$$|\\phi\\rangle = \\frac{1}{\\sqrt{11}} \\left( \\sqrt{2}|0\\rangle - 3i|1\\rangle \\right)$$\n",
    "\n",
    "**Task:**\n",
    "1. Calculate the **probability of measuring the state** $|1\\rangle$, $P(|1\\rangle)$.\n",
    "2. Calculate the **probability of measuring the state** $|0\\rangle$, $P(|0\\rangle)$.\n",
    "3. Verify that the probabilities sum to 1."
   ]
  },
  {
   "cell_type": "code",
   "execution_count": null,
   "id": "d98bcb15",
   "metadata": {},
   "outputs": [],
   "source": [
    "# Problem 2 Solution Code\n",
    "# State vector components (normalized)\n",
    "c0 = np.sqrt(2) / np.sqrt(11)\n",
    "c1 = (-3j) / np.sqrt(11)\n",
    "\n",
    "# 1. Calculate P(|1>)\n",
    "P_1 = np.abs(c1)**2\n",
    "print(f\"1. P(|1>): {P_1:.4f} (or 9/11)\")\n",
    "\n",
    "# 2. Calculate P(|0>)\n",
    "P_0 = np.abs(c0)**2\n",
    "print(f\"2. P(|0>): {P_0:.4f} (or 2/11)\")\n",
    "\n",
    "# 3. Verification\n",
    "Total_P = P_0 + P_1\n",
    "print(f\"3. P(0) + P(1) = {Total_P:.4f}\")"
   ]
  },
  {
   "cell_type": "markdown",
   "id": "f80254e0",
   "metadata": {},
   "source": [
    "## Problem 3: Orthogonality Check (Inner Product)\n",
    "\n",
    "Determine whether the following two normalized states are **orthogonal** by calculating their inner product, $\\langle\\alpha|\\beta\\rangle$.\n",
    "$$|\\alpha\\rangle = \\frac{1}{\\sqrt{5}} \\begin{pmatrix} 2 \\\\ i \\end{pmatrix} \\quad \\text{and} \\quad |\\beta\\rangle = \\frac{1}{\\sqrt{5}} \\begin{pmatrix} 1 \\\\ -2i \\end{pmatrix}$$\n",
    "\n",
    "**Task:**\n",
    "1. Write out the bra vector $\\langle\\alpha|$ (the conjugate transpose of $|\\alpha\\rangle$).\n",
    "2. Compute the inner product $\\langle\\alpha|\\beta\\rangle$.\n",
    "3. State whether the vectors are orthogonal (Yes/No)."
   ]
  },
  {
   "cell_type": "code",
   "execution_count": null,
   "id": "ec47b88a",
   "metadata": {},
   "outputs": [],
   "source": [
    "# Problem 3 Solution Code\n",
    "ket_alpha = (1 / np.sqrt(5)) * np.array([[2], [1j]])\n",
    "ket_beta = (1 / np.sqrt(5)) * np.array([[1], [-2j]])\n",
    "\n",
    "# 1. Bra vector <alpha| (Conjugate Transpose)\n",
    "bra_alpha = ket_alpha.conj().T\n",
    "print(\"1. Bra <alpha| (rounded):\\n\", np.round(bra_alpha, 4))\n",
    "\n",
    "# 2. Compute inner product <alpha|beta>\n",
    "# np.vdot is the specialized function for the inner product of two complex vectors\n",
    "inner_product = np.vdot(ket_alpha, ket_beta)\n",
    "print(f\"2. Inner Product <alpha|beta>: {inner_product}\")\n",
    "\n",
    "# 3. Orthogonal Check\n",
    "is_orthogonal = np.isclose(inner_product, 0)\n",
    "print(f\"3. Orthogonal? {'Yes' if is_orthogonal else 'No'}\")"
   ]
  },
  {
   "cell_type": "markdown",
   "id": "2a166d2d",
   "metadata": {},
   "source": [
    "## Problem 4: Density Matrix for a Pure State\n",
    "\n",
    "A pure state is given by the vector:\n",
    "$$|\\chi\\rangle = \\frac{1}{\\sqrt{13}} \\begin{pmatrix} 3 \\\\ 2i \\end{pmatrix}$$\n",
    "\n",
    "**Task:**\n",
    "1. Compute the **density matrix,** $\\rho = |\\chi\\rangle\\langle\\chi|$.\n",
    "2. What is the $\\rho_{11}$ element (the probability of measuring $|1\\rangle$)?"
   ]
  },
  {
   "cell_type": "code",
   "execution_count": null,
   "id": "28344522",
   "metadata": {},
   "outputs": [],
   "source": [
    "# Problem 4 Solution Code\n",
    "ket_chi = (1 / np.sqrt(13)) * np.array([[3], [2j]])\n",
    "\n",
    "# 1. Compute density matrix rho = |chi><chi| (Outer Product)\n",
    "rho = np.outer(ket_chi, ket_chi.conj())\n",
    "print(\"1. Density Matrix ρ:\\n\", np.round(rho, 4))\n",
    "\n",
    "# 2. Extract rho_11 element\n",
    "rho_11 = rho[1, 1]\n",
    "print(f\"2. ρ_11 element (P(|1>)): {rho_11.real:.4f} (or 4/13)\")"
   ]
  },
  {
   "cell_type": "markdown",
   "id": "dece0f25",
   "metadata": {},
   "source": [
    "## Problem 5: Mixed State Density Matrix Construction\n",
    "\n",
    "A system is known to be in a **classical probabilistic mixture**:\n",
    "* It is in the state $|+\\rangle = \\frac{1}{\\sqrt{2}}(|0\\rangle + |1\\rangle)$ with **70% probability ($p_1 = 0.7$)**.\n",
    "* It is in the state $|-\\rangle = \\frac{1}{\\sqrt{2}}(|0\\rangle - |1\\rangle)$ with **30% probability ($p_2 = 0.3$)**.\n",
    "\n",
    "**Task:**\n",
    "1. Recall or derive the density matrices for $|+\\rangle$ and $|-\\rangle$.\n",
    "2. Construct the **mixed state density matrix,** $\\rho = p_1 |+\\rangle\\langle+| + p_2 |-\\rangle\\langle-|$."
   ]
  },
  {
   "cell_type": "code",
   "execution_count": null,
   "id": "6612af86",
   "metadata": {},
   "outputs": [],
   "source": [
    "# Problem 5 Solution Code\n",
    "p_plus = 0.7\n",
    "p_minus = 0.3\n",
    "\n",
    "# Define the pure states\n",
    "ket_plus = (1 / np.sqrt(2)) * np.array([[1], [1]])\n",
    "ket_minus = (1 / np.sqrt(2)) * np.array([[1], [-1]])\n",
    "\n",
    "# 1. Density matrices for pure states\n",
    "rho_plus = np.outer(ket_plus, ket_plus.conj())\n",
    "rho_minus = np.outer(ket_minus, ket_minus.conj())\n",
    "print(\"1. ρ(+) (Pure State):\\n\", np.round(rho_plus, 4))\n",
    "print(\"   ρ(-) (Pure State):\\n\", np.round(rho_minus, 4))\n",
    "\n",
    "# 2. Construct mixed state density matrix\n",
    "rho_mixed = p_plus * rho_plus + p_minus * rho_minus\n",
    "print(\"\\n2. Mixed State Density Matrix (ρ):\\n\", np.round(rho_mixed, 4))"
   ]
  },
  {
   "cell_type": "markdown",
   "id": "bfb4b1ab",
   "metadata": {},
   "source": [
    "## Problem 6: Tensor Product Composition\n",
    "\n",
    "Compute the composite state $|A\\rangle \\otimes |B\\rangle$ and express the final unnormalized vector in the basis $|00\\rangle, |01\\rangle, |10\\rangle, |11\\rangle$.\n",
    "\n",
    "$$|A\\rangle = \\begin{pmatrix} 1 \\\\ i \\end{pmatrix} \\quad \\text{and} \\quad |B\\rangle = \\begin{pmatrix} -1 \\\\ 2 \\end{pmatrix}$$\n",
    "\n",
    "**Task:**\n",
    "1. Perform the tensor product operation: $|A\\rangle \\otimes |B\\rangle$.\n",
    "2. Does the resulting 4-dimensional vector normalized? If not, normalized it."
   ]
  },
  {
   "cell_type": "code",
   "execution_count": 5,
   "id": "9fe9685e",
   "metadata": {},
   "outputs": [
    {
     "name": "stdout",
     "output_type": "stream",
     "text": [
      "1. Composite State Vector |A> x |B>:\n",
      " [[-1.+0.j]\n",
      " [ 2.+0.j]\n",
      " [-0.-1.j]\n",
      " [ 0.+2.j]]\n",
      "2. Normalization Constant N: 0.3162+0.0000j\n",
      "2. Normalized composite State Vector |A> x |B>:\n",
      " [[-0.31622777+0.j        ]\n",
      " [ 0.63245553+0.j        ]\n",
      " [ 0.        -0.31622777j]\n",
      " [ 0.        +0.63245553j]]\n"
     ]
    }
   ],
   "source": [
    "# Problem 6 Solution Code\n",
    "ket_A = np.array([[1], [1j]])\n",
    "ket_B = np.array([[-1], [2]])\n",
    "\n",
    "# 1. Perform the Kronecker (Tensor) Product\n",
    "ket_composite = np.kron(ket_A, ket_B)\n",
    "print(\"1. Composite State Vector |A> x |B>:\\n\", ket_composite)\n",
    "\n",
    "# 2. Verifying normalization of composite state\n",
    "norm_squared = np.vdot(ket_composite, ket_composite)\n",
    "if np.isclose(norm_squared, 1):\n",
    "    print(\"2. Composite state is already normalized.\")\n",
    "else:\n",
    "    N = 1 / np.sqrt(norm_squared)\n",
    "    print(f\"2. Normalization Constant N: {N:.4f}\")\n",
    "\n",
    "print(\"2. Normalized composite State Vector |A> x |B>:\\n\", N * ket_composite)"
   ]
  }
 ],
 "metadata": {
  "kernelspec": {
   "display_name": "Python 3",
   "language": "python",
   "name": "python3"
  },
  "language_info": {
   "codemirror_mode": {
    "name": "ipython",
    "version": 3
   },
   "file_extension": ".py",
   "mimetype": "text/x-python",
   "name": "python",
   "nbconvert_exporter": "python",
   "pygments_lexer": "ipython3",
   "version": "3.11.9"
  }
 },
 "nbformat": 4,
 "nbformat_minor": 5
}
