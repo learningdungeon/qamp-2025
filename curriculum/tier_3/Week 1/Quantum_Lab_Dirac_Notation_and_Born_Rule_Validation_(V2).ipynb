{
  "cells": [
    {
      "cell_type": "markdown",
      "source": [
        "# Quantum Lab Activity: Dirac Notation, Born Rule, and Noise\n",
        "\n",
        "This lab is a Code-to-Theory Bridge, connecting the abstract mathematical description of quantum states\n",
        "with the physical outcomes of quantum measurement, and introducing the concept of real-world quantum noise.\n",
        "\n",
        "We will use the Qiskit SDK to build a quantum circuit, extract its theoretical state vector,\n",
        "manually calculate the measurement probabilities using the Born Rule, and then validate our results\n",
        "through statistical simulation.\n",
        "\n",
        "---\n",
        "## 1. From Simple Vector Notation to Dirac Notation\n",
        "\n",
        "In linear algebra, we represent vectors as columns in $\\mathbb{C}^N$ (Complex space). In quantum mechanics,\n",
        "we use **Dirac Notation**, or **Bra-Ket notation**, to represent vectors in the Hilbert Space.\n",
        "\n",
        "### A. The Ket: The State Vector\n",
        "A quantum state is represented by a **ket**, written as **$|\\psi\\rangle$**.\n",
        "The ket is mathematically a **column vector** (a state vector) representing the complete description of the system.\n",
        "$$\n",
        "|\\psi\\rangle \\rightarrow \\begin{pmatrix} c_0 \\\\ c_1 \\end{pmatrix}\n",
        "$$\n",
        "For a single qubit, the computational basis states are:\n",
        "$|0\\rangle = \\begin{pmatrix} 1 \\\\ 0 \\end{pmatrix} \\quad \\text{and} \\quad |1\\rangle = \\begin{pmatrix} 0 \\\\ 1 \\end{pmatrix}$\n",
        "\n",
        "### B. The Bra: The Dual Vector\n",
        "The corresponding **bra**, written as **$\\langle \\psi |$**, is the Hermitian conjugate (conjugate transpose, denoted $\\dagger$) of the ket.\n",
        "It is mathematically a **row vector** where all elements of the ket have been transposed and complex-conjugated.\n",
        "$$\n",
        "\\text{If } |\\psi\\rangle = \\begin{pmatrix} c_0 \\\\ c_1 \\end{pmatrix} \\text{, then } \\langle \\psi | = \\left( c_0^* \\quad c_1^* \\right)\n",
        "$$\n",
        "\n",
        "### C. The Bra-Ket: The Inner Product\n",
        "The combination $\\langle \\phi | \\psi \\rangle$ is the **inner product** of the two states, which results in a scalar(a complex or real number).\n",
        "This value is called the **probability amplitude**.\n",
        "\n",
        "---\n",
        "## 2. The Born Rule: Formal Principle for Measurement Probability\n",
        "\n",
        "The **Born Rule** is the fundamental postulate that dictates how probability is extracted from the state vector.\n",
        "\n",
        "The probability of measuring the system in a specific basis state (say, $|k\\rangle$) is the square of the magnitude of the probability amplitude $\\langle k | \\psi \\rangle$:\n",
        "\n",
        "$$\n",
        "P(k) = |\\langle k | \\psi \\rangle|^2\n",
        "$$\n",
        "\n",
        "---"
      ],
      "metadata": {
        "id": "PAxe_2Qw7K-t"
      }
    },
    {
      "cell_type": "markdown",
      "source": [
        "## 3. Lab Activity: Code-to-Theory Bridge"
      ],
      "metadata": {
        "id": "vminQhaf7kBE"
      }
    },
    {
      "cell_type": "code",
      "source": [
        "#pip install\n",
        "!pip install qiskit qiskit[visualization] qiskit-aer"
      ],
      "metadata": {
        "colab": {
          "base_uri": "https://localhost:8080/"
        },
        "collapsed": true,
        "id": "rziecWjy70Mr",
        "outputId": "ffc3b9cd-f65b-426d-ee75-df7930372672"
      },
      "execution_count": null,
      "outputs": [
        {
          "output_type": "stream",
          "name": "stdout",
          "text": [
            "Requirement already satisfied: qiskit in /usr/local/lib/python3.12/dist-packages (2.2.1)\n",
            "Requirement already satisfied: qiskit-aer in /usr/local/lib/python3.12/dist-packages (0.17.2)\n",
            "Requirement already satisfied: rustworkx>=0.15.0 in /usr/local/lib/python3.12/dist-packages (from qiskit) (0.17.1)\n",
            "Requirement already satisfied: numpy<3,>=1.17 in /usr/local/lib/python3.12/dist-packages (from qiskit) (2.0.2)\n",
            "Requirement already satisfied: scipy>=1.5 in /usr/local/lib/python3.12/dist-packages (from qiskit) (1.16.2)\n",
            "Requirement already satisfied: dill>=0.3 in /usr/local/lib/python3.12/dist-packages (from qiskit) (0.3.8)\n",
            "Requirement already satisfied: stevedore>=3.0.0 in /usr/local/lib/python3.12/dist-packages (from qiskit) (5.5.0)\n",
            "Requirement already satisfied: typing-extensions in /usr/local/lib/python3.12/dist-packages (from qiskit) (4.15.0)\n",
            "Requirement already satisfied: matplotlib>=3.3 in /usr/local/lib/python3.12/dist-packages (from qiskit[visualization]) (3.10.0)\n",
            "Requirement already satisfied: pydot in /usr/local/lib/python3.12/dist-packages (from qiskit[visualization]) (3.0.4)\n",
            "Requirement already satisfied: Pillow>=4.2.1 in /usr/local/lib/python3.12/dist-packages (from qiskit[visualization]) (11.3.0)\n",
            "Requirement already satisfied: pylatexenc>=1.4 in /usr/local/lib/python3.12/dist-packages (from qiskit[visualization]) (2.10)\n",
            "Requirement already satisfied: seaborn>=0.9.0 in /usr/local/lib/python3.12/dist-packages (from qiskit[visualization]) (0.13.2)\n",
            "Requirement already satisfied: sympy>=1.3 in /usr/local/lib/python3.12/dist-packages (from qiskit[visualization]) (1.13.3)\n",
            "Requirement already satisfied: psutil>=5 in /usr/local/lib/python3.12/dist-packages (from qiskit-aer) (5.9.5)\n",
            "Requirement already satisfied: python-dateutil>=2.8.0 in /usr/local/lib/python3.12/dist-packages (from qiskit-aer) (2.9.0.post0)\n",
            "Requirement already satisfied: contourpy>=1.0.1 in /usr/local/lib/python3.12/dist-packages (from matplotlib>=3.3->qiskit[visualization]) (1.3.3)\n",
            "Requirement already satisfied: cycler>=0.10 in /usr/local/lib/python3.12/dist-packages (from matplotlib>=3.3->qiskit[visualization]) (0.12.1)\n",
            "Requirement already satisfied: fonttools>=4.22.0 in /usr/local/lib/python3.12/dist-packages (from matplotlib>=3.3->qiskit[visualization]) (4.60.1)\n",
            "Requirement already satisfied: kiwisolver>=1.3.1 in /usr/local/lib/python3.12/dist-packages (from matplotlib>=3.3->qiskit[visualization]) (1.4.9)\n",
            "Requirement already satisfied: packaging>=20.0 in /usr/local/lib/python3.12/dist-packages (from matplotlib>=3.3->qiskit[visualization]) (25.0)\n",
            "Requirement already satisfied: pyparsing>=2.3.1 in /usr/local/lib/python3.12/dist-packages (from matplotlib>=3.3->qiskit[visualization]) (3.2.5)\n",
            "Requirement already satisfied: six>=1.5 in /usr/local/lib/python3.12/dist-packages (from python-dateutil>=2.8.0->qiskit-aer) (1.17.0)\n",
            "Requirement already satisfied: pandas>=1.2 in /usr/local/lib/python3.12/dist-packages (from seaborn>=0.9.0->qiskit[visualization]) (2.2.2)\n",
            "Requirement already satisfied: mpmath<1.4,>=1.1.0 in /usr/local/lib/python3.12/dist-packages (from sympy>=1.3->qiskit[visualization]) (1.3.0)\n",
            "Requirement already satisfied: pytz>=2020.1 in /usr/local/lib/python3.12/dist-packages (from pandas>=1.2->seaborn>=0.9.0->qiskit[visualization]) (2025.2)\n",
            "Requirement already satisfied: tzdata>=2022.7 in /usr/local/lib/python3.12/dist-packages (from pandas>=1.2->seaborn>=0.9.0->qiskit[visualization]) (2025.2)\n"
          ]
        }
      ]
    },
    {
      "cell_type": "code",
      "source": [
        "# Import necessary Qiskit components\n",
        "from qiskit import QuantumRegister, ClassicalRegister, QuantumCircuit\n",
        "from qiskit_aer import AerSimulator\n",
        "from qiskit.quantum_info import Statevector, DensityMatrix\n",
        "import numpy as np\n",
        "\n",
        "# --- Setup the Quantum Circuit: State Preparation ---\n",
        "# We will create an equal superposition state: |psi> = H|0>\n",
        "# define a quantum register with one qubit\n",
        "q =  QuantumRegister(1,\"qreg\")\n",
        "\n",
        "# define a classical register with one bit\n",
        "# it stores the measurement result of the quantum part\n",
        "c = ClassicalRegister(1,\"creg\")\n",
        "\n",
        "# define our quantum circuit\n",
        "qc = QuantumCircuit(q,c)\n",
        "qc.h(0)\n",
        "\n",
        "print(\"--- Quantum Circuit Setup (Hadamard Gate) ---\")\n",
        "qc.draw(output='text')"
      ],
      "metadata": {
        "colab": {
          "base_uri": "https://localhost:8080/",
          "height": 111
        },
        "id": "EM_T5h0P_QM6",
        "outputId": "72743663-1173-4f01-9250-acfb8a732054"
      },
      "execution_count": null,
      "outputs": [
        {
          "output_type": "stream",
          "name": "stdout",
          "text": [
            "--- Quantum Circuit Setup (Hadamard Gate) ---\n"
          ]
        },
        {
          "output_type": "execute_result",
          "data": {
            "text/plain": [
              "        ┌───┐\n",
              "  qreg: ┤ H ├\n",
              "        └───┘\n",
              "creg: 1/═════\n",
              "             "
            ],
            "text/html": [
              "<pre style=\"word-wrap: normal;white-space: pre;background: #fff0;line-height: 1.1;font-family: &quot;Courier New&quot;,Courier,monospace\">        ┌───┐\n",
              "  qreg: ┤ H ├\n",
              "        └───┘\n",
              "creg: 1/═════\n",
              "             </pre>"
            ]
          },
          "metadata": {},
          "execution_count": 24
        }
      ]
    },
    {
      "cell_type": "code",
      "source": [
        "# STEP A: State Vector Retrieval (Theoretical State)\n",
        "\n",
        "# Use the Qiskit Statevector Simulator to extract the state vector |ψ⟩ before measurement\n",
        "initial_state = Statevector.from_instruction(qc)\n",
        "psi_vector = initial_state.data\n",
        "\n",
        "print(\"\\n--- Step A: State Vector Retrieval: |ψ⟩ ---\")\n",
        "print(f\"Theoretical State Vector |ψ⟩ (Column Vector):\\n{psi_vector}\")\n",
        "\n",
        "# Extract components for manual calculation: |ψ⟩ = α|0⟩ + β|1⟩\n",
        "alpha = psi_vector[0]\n",
        "beta = psi_vector[1]\n",
        "\n",
        "print(f\"Component α: {alpha}\")\n",
        "print(f\"Component β: {beta}\")"
      ],
      "metadata": {
        "colab": {
          "base_uri": "https://localhost:8080/"
        },
        "id": "Iu7pMGTLBB_5",
        "outputId": "5f9b34f7-e162-4449-c740-edf21daa2b31"
      },
      "execution_count": null,
      "outputs": [
        {
          "output_type": "stream",
          "name": "stdout",
          "text": [
            "\n",
            "--- Step A: State Vector Retrieval: |ψ⟩ ---\n",
            "Theoretical State Vector |ψ⟩ (Column Vector):\n",
            "[0.70710678+0.j 0.70710678+0.j]\n",
            "Component α: (0.7071067811865475+0j)\n",
            "Component β: (0.7071067811865475+0j)\n"
          ]
        }
      ]
    },
    {
      "cell_type": "markdown",
      "source": [
        "### Step 2: Manual Calculation (The Born Rule)\n",
        "\n",
        "**STUDENT ACTION: Documentation and Calculation**\n",
        "\n",
        "Based on the state vector components you retrieved in Step 1:\n",
        "$|\\psi\\rangle = a|0\\rangle + b|1\\rangle$\n",
        "\n",
        "1.  **Document the complex amplitude** for $|0\\rangle$ (which is $a$) and $|1\\rangle$ (which is $b$).\n",
        "2.  **Manually calculate the theoretical probabilities** for measurement using the Born Rule:\n",
        "    * $P(|0\\rangle) = |a|^2$\n",
        "    * $P(|1\\rangle) = |b|^2$\n",
        "\n",
        "Write your manual calculation steps in a dedicated markdown cell below.\n",
        "\n",
        "<br>\n",
        "<hr>\n",
        "\n",
        "**[STUDENT ANSWERS MANUAL]**\n",
        "\n",
        "The retrieved amplitudes are:\n",
        "$a = (1/\\sqrt{2}) \\approx 0.7071$\n",
        "$b = (1/\\sqrt{2}) \\approx 0.7071$\n",
        "\n",
        "**Theoretical Probability Calculation:**\n",
        "$P(|0\\rangle) = |a|^2 = (1/\\sqrt{2})^2 = 1/2 = 0.5$\n",
        "$P(|1\\rangle) = |b|^2 = (1/\\sqrt{2})^2 = 1/2 = 0.5$\n",
        "\n",
        "Total Probability Check: $0.5 + 0.5 = 1.0$\n",
        "\n",
        "---\n",
        "\n",
        "#### Code Check (Internal Verification)\n",
        "The following code performs the same calculation to verify the manual step."
      ],
      "metadata": {
        "id": "ZeAY1J3QDBdH"
      }
    },
    {
      "cell_type": "code",
      "source": [
        "# STEP B: Manual Calculation using the Born Rule\n",
        "\n",
        "# We calculate the theoretical probability of measuring |0> and |1>\n",
        "# P(0) = |<0|ψ>|^2 = |alpha|^2\n",
        "# P(1) = |<1|ψ>|^2 = |beta|^2\n",
        "\n",
        "# Probability of measuring |0> (overlap with basis state |0> = (1, 0))\n",
        "# <0|ψ> = (1, 0) * (α, β)^T = α\n",
        "P0_amplitude = alpha\n",
        "P0_theoretical = np.abs(P0_amplitude)**2\n",
        "\n",
        "# Probability of measuring |1> (overlap with basis state |1> = (0, 1))\n",
        "# <1|ψ> = (0, 1) * (α, β)^T = β\n",
        "P1_amplitude = beta\n",
        "P1_theoretical = np.abs(P1_amplitude)**2\n",
        "\n",
        "print(\"\\n--- Step B: Manual Born Rule Calculation ---\")\n",
        "print(f\"Theoretical Probability P(0): P(|0⟩) = |α|^2 = {P0_theoretical:.4f}\")\n",
        "print(f\"Theoretical Probability P(1): P(|1⟩) = |β|^2 = {P1_theoretical:.4f}\")\n",
        "print(f\"Total Probability Check (P(0)+P(1)): {P0_theoretical + P1_theoretical:.4f}\")"
      ],
      "metadata": {
        "colab": {
          "base_uri": "https://localhost:8080/"
        },
        "id": "kUi4kDXeC3MV",
        "outputId": "d0e2d024-8b2d-4216-b633-b0f252677d30"
      },
      "execution_count": null,
      "outputs": [
        {
          "output_type": "stream",
          "name": "stdout",
          "text": [
            "\n",
            "--- Step B: Manual Born Rule Calculation ---\n",
            "Theoretical Probability P(0): P(|0⟩) = |α|^2 = 0.5000\n",
            "Theoretical Probability P(1): P(|1⟩) = |β|^2 = 0.5000\n",
            "Total Probability Check (P(0)+P(1)): 1.0000\n"
          ]
        }
      ]
    },
    {
      "cell_type": "markdown",
      "source": [
        "### Step 3: Validation (Statistical Simulation)\n",
        "\n",
        "\n",
        "Run the circuit with a measurement on the QASM simulator for 10,000 shots. Compare the statistical results (empirical probabilities) to your theoretical calculations from Step 2."
      ],
      "metadata": {
        "id": "QJalCKFsEAwv"
      }
    },
    {
      "cell_type": "code",
      "source": [
        "# STEP C: Validation: Statistical Simulation (QASM)\n",
        "\n",
        "# 1. Add measurement to the circuit\n",
        "# Create a copy of the circuit before adding measurements\n",
        "qc_measured = qc.copy()\n",
        "qc_measured.measure(q[0], c[0])\n",
        "shots = 10000\n",
        "\n",
        "# 2. Run the circuit on the QASM simulator\n",
        "simulator = AerSimulator()\n",
        "compiled_circuit = transpile(qc_measured, simulator)\n",
        "job = simulator.run(compiled_circuit, shots=shots)\n",
        "result = job.result()\n",
        "counts = result.get_counts()\n",
        "\n",
        "# 3. Calculate empirical probabilities\n",
        "P0_empirical = counts.get('0', 0) / shots\n",
        "P1_empirical = counts.get('1', 0) / shots\n",
        "\n",
        "\n",
        "print(f\"\\n--- Step C: Validation: QASM Simulation ({shots} Shots) ---\")\n",
        "print(f\"Raw Counts: {counts}\")\n",
        "print(f\"Empirical Probability P(0): {P0_empirical:.4f}\")\n",
        "print(f\"Empirical Probability P(1): {P1_empirical:.4f}\")\n",
        "\n",
        "print(\"\\n--- Comparison ---\")\n",
        "print(f\"Difference P(0): |{P0_theoretical:.4f} - {P0_empirical:.4f}| = {np.abs(P0_theoretical - P0_empirical):.4f}\")\n",
        "print(\"The statistical result closely matches the theoretical Born Rule prediction for a large number of trials.\")"
      ],
      "metadata": {
        "colab": {
          "base_uri": "https://localhost:8080/"
        },
        "id": "tqQZLhbnEJFu",
        "outputId": "82a1b92c-69bd-4f39-d0ef-47138b8e986e"
      },
      "execution_count": null,
      "outputs": [
        {
          "output_type": "stream",
          "name": "stdout",
          "text": [
            "\n",
            "--- Step C: Validation: QASM Simulation (10000 Shots) ---\n",
            "Raw Counts: {'0': 4974, '1': 5026}\n",
            "Empirical Probability P(0): 0.4974\n",
            "Empirical Probability P(1): 0.5026\n",
            "\n",
            "--- Comparison ---\n",
            "Difference P(0): |0.5000 - 0.4974| = 0.0026\n",
            "The statistical result closely matches the theoretical Born Rule prediction for a large number of trials.\n"
          ]
        }
      ]
    },
    {
      "cell_type": "code",
      "source": [
        "#Code to make histogram to show the simulate results\n",
        "from qiskit.visualization import plot_histogram\n",
        "\n",
        "print(\"\\n--- Histogram of Simulation Results ---\")\n",
        "plot_histogram(counts)"
      ],
      "metadata": {
        "colab": {
          "base_uri": "https://localhost:8080/",
          "height": 522
        },
        "id": "9wMBtq9TLVJz",
        "outputId": "b789f3d8-0891-4e97-8236-1ab2fb688277"
      },
      "execution_count": null,
      "outputs": [
        {
          "output_type": "stream",
          "name": "stdout",
          "text": [
            "\n",
            "--- Histogram of Simulation Results ---\n"
          ]
        },
        {
          "output_type": "execute_result",
          "data": {
            "text/plain": [
              "<Figure size 640x480 with 1 Axes>"
            ],
            "image/png": "[encoded data removed]"
          },
          "metadata": {},
          "execution_count": 35
        }
      ]
    },
    {
      "cell_type": "markdown",
      "source": [
        "## 4. Noise Integration: Formal Models (Pure vs. Mixed States)\n",
        "\n",
        "In the real world, quantum computers are highly sensitive to the environment, leading to **decoherence**. This noise forces us to move beyond the simple state vector description.\n",
        "\n",
        "### A. The Ideal State: Pure State\n",
        "The state vector $|\\psi\\rangle$ describes a **Pure State**, where we have maximum knowledge about the system.\n",
        "\n",
        "### B. The Noisy State: Mixed State (Density Matrix $\\rho$)\n",
        "A **Mixed State** describes a quantum system that is a probabilistic mixture of multiple pure states. We use the **Density Matrix** ($\\rho$, pronounced \"rho\") to describe this state, which naturally accounts for uncertainty and noise.\n",
        "\n",
        "**Ideal Pure State Density Matrix:**\n",
        "For a pure state $|\\psi\\rangle$, the density matrix is simply the outer product:\n",
        "$$\n",
        "\\rho = |\\psi\\rangle \\langle \\psi |\n",
        "$$\n",
        "\n",
        "The diagonal elements of the density matrix always give the measurement probabilities: $\\rho_{kk} = P(k)$.\n",
        "\n",
        "### Density Matrix for the H-Gate Circuit\n",
        "\n",
        "Let's calculate the Density Matrix for our initial, noiseless state $|\\psi\\rangle$."
      ],
      "metadata": {
        "id": "8kdmcKuiIoS0"
      }
    },
    {
      "cell_type": "code",
      "source": [
        "# Calculate the Density Matrix (rho) for the Pure State\n",
        "# We use the theoretical state vector obtained earlier\n",
        "rho = DensityMatrix(initial_state)\n",
        "\n",
        "print(\"\\n--- Density Matrix (ρ) for the Pure State ---\")\n",
        "print(np.round(rho.data, 4))\n",
        "print(\"\\nNote: The diagonal elements (ρ_00 and ρ_11) of the density matrix are the theoretical probabilities P(0) and P(1).\")\n",
        "print(\"They confirm the Born Rule calculation from Step B.\")"
      ],
      "metadata": {
        "colab": {
          "base_uri": "https://localhost:8080/"
        },
        "id": "9Mqx-FrcI9kT",
        "outputId": "68a3d38b-470e-4238-cd75-7af4c546baf1"
      },
      "execution_count": null,
      "outputs": [
        {
          "output_type": "stream",
          "name": "stdout",
          "text": [
            "\n",
            "--- Density Matrix (ρ) for the Pure State ---\n",
            "[[0.5+0.j 0.5+0.j]\n",
            " [0.5+0.j 0.5+0.j]]\n",
            "\n",
            "Note: The diagonal elements (ρ_00 and ρ_11) of the density matrix are the theoretical probabilities P(0) and P(1).\n",
            "They confirm the Born Rule calculation from Step B.\n"
          ]
        }
      ]
    }
  ],
  "metadata": {
    "colab": {
      "provenance": []
    },
    "kernelspec": {
      "display_name": "Python 3",
      "name": "python3"
    }
  },
  "nbformat": 4,
  "nbformat_minor": 0
}